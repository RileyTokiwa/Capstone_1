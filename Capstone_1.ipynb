{
 "cells": [
  {
   "cell_type": "code",
   "execution_count": 90,
   "id": "c1f04519",
   "metadata": {},
   "outputs": [],
   "source": [
    "import csv\n",
    "import pandas as pd"
   ]
  },
  {
   "cell_type": "code",
   "execution_count": 91,
   "id": "a73bd2e2",
   "metadata": {},
   "outputs": [
    {
     "name": "stdout",
     "output_type": "stream",
     "text": [
      "                                                         text  \\\n",
      "textID                                                          \n",
      "cb774db0d1                I`d have responded, if I were going   \n",
      "549e992a42      Sooo SAD I will miss you here in San Diego!!!   \n",
      "088c60f138                          my boss is bullying me...   \n",
      "9642c003ef                     what interview! leave me alone   \n",
      "358bd9e861   Sons of ****, why couldn`t they put them on t...   \n",
      "\n",
      "                                  selected_text sentiment  \n",
      "textID                                                     \n",
      "cb774db0d1  I`d have responded, if I were going   neutral  \n",
      "549e992a42                             Sooo SAD  negative  \n",
      "088c60f138                          bullying me  negative  \n",
      "9642c003ef                       leave me alone  negative  \n",
      "358bd9e861                        Sons of ****,  negative  \n"
     ]
    }
   ],
   "source": [
    "with open(r'C:\\Users\\rtoki\\Downloads\\train.csv\\train.csv', mode='r') as csv_file:\n",
    "    df = pd.read_csv(csv_file, index_col=0)\n",
    "    print(df.head())"
   ]
  },
  {
   "cell_type": "code",
   "execution_count": 92,
   "id": "ba9119e6",
   "metadata": {},
   "outputs": [],
   "source": [
    "#Drop single nan tweet because a text body is a required input for the model\n",
    "#print(df[df['text'].isna()])\n",
    "#filtered_df = df.dropna() "
   ]
  },
  {
   "cell_type": "code",
   "execution_count": 113,
   "id": "4d4aebfb",
   "metadata": {},
   "outputs": [
    {
     "name": "stdout",
     "output_type": "stream",
     "text": [
      "<class 'pandas.core.frame.DataFrame'>\n",
      "Index: 27481 entries, cb774db0d1 to 6f7127d9d7\n",
      "Data columns (total 3 columns):\n",
      " #   Column         Non-Null Count  Dtype \n",
      "---  ------         --------------  ----- \n",
      " 0   text           27480 non-null  object\n",
      " 1   selected_text  27480 non-null  object\n",
      " 2   sentiment      27481 non-null  object\n",
      "dtypes: object(3)\n",
      "memory usage: 1.8+ MB\n"
     ]
    }
   ],
   "source": [
    "#All of the columns contain strings\n",
    "df.info()"
   ]
  },
  {
   "cell_type": "code",
   "execution_count": 133,
   "id": "913bc12d",
   "metadata": {},
   "outputs": [
    {
     "name": "stdout",
     "output_type": "stream",
     "text": [
      "neutral 11118\n",
      "negative 7781\n",
      "positive 8582\n",
      "Stored 'unique_sentiments' (ndarray)\n"
     ]
    }
   ],
   "source": [
    "#Summary of distribution of sentiments\n",
    "unique_sentiments = df['sentiment'].unique()\n",
    "for unique_sentiment in unique_sentiments:\n",
    "    count_df = df[df['sentiment'] == unique_sentiment].count()\n",
    "    print(unique_sentiment, count_df['sentiment'])\n",
    "    \n",
    "%store unique_sentiments"
   ]
  },
  {
   "cell_type": "code",
   "execution_count": 136,
   "id": "30d795ab",
   "metadata": {},
   "outputs": [
    {
     "name": "stdout",
     "output_type": "stream",
     "text": [
      "True\n"
     ]
    }
   ],
   "source": [
    "#All tweets are unique, no duplicates\n",
    "unique_tweets = df['text'].unique()\n",
    "print(len(unique_tweets) == len(df))"
   ]
  },
  {
   "cell_type": "code",
   "execution_count": null,
   "id": "c2e35336",
   "metadata": {},
   "outputs": [],
   "source": []
  }
 ],
 "metadata": {
  "kernelspec": {
   "display_name": "Python 3",
   "language": "python",
   "name": "python3"
  },
  "language_info": {
   "codemirror_mode": {
    "name": "ipython",
    "version": 3
   },
   "file_extension": ".py",
   "mimetype": "text/x-python",
   "name": "python",
   "nbconvert_exporter": "python",
   "pygments_lexer": "ipython3",
   "version": "3.9.5"
  }
 },
 "nbformat": 4,
 "nbformat_minor": 5
}
